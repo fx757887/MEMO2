{
 "cells": [
  {
   "cell_type": "code",
   "execution_count": 1,
   "id": "smooth-centre",
   "metadata": {},
   "outputs": [
    {
     "name": "stdout",
     "output_type": "stream",
     "text": [
      "7 1.0\n"
     ]
    }
   ],
   "source": [
    "import numpy as np\n",
    "\n",
    "a=np.arange(1, 10, 3)\n",
    "b=np.eye(5)\n",
    "\n",
    "print(a[-1], b[2,2])"
   ]
  },
  {
   "cell_type": "code",
   "execution_count": 2,
   "id": "infrared-blackberry",
   "metadata": {},
   "outputs": [
    {
     "data": {
      "text/plain": [
       "array([1, 4, 7])"
      ]
     },
     "execution_count": 2,
     "metadata": {},
     "output_type": "execute_result"
    }
   ],
   "source": [
    "a"
   ]
  },
  {
   "cell_type": "code",
   "execution_count": 3,
   "id": "operating-trustee",
   "metadata": {},
   "outputs": [
    {
     "name": "stdout",
     "output_type": "stream",
     "text": [
      "[1 4 7]\n"
     ]
    }
   ],
   "source": [
    "print(a)"
   ]
  },
  {
   "cell_type": "code",
   "execution_count": 4,
   "id": "continued-israeli",
   "metadata": {},
   "outputs": [
    {
     "data": {
      "text/plain": [
       "array([[1., 0., 0., 0., 0.],\n",
       "       [0., 1., 0., 0., 0.],\n",
       "       [0., 0., 1., 0., 0.],\n",
       "       [0., 0., 0., 1., 0.],\n",
       "       [0., 0., 0., 0., 1.]])"
      ]
     },
     "execution_count": 4,
     "metadata": {},
     "output_type": "execute_result"
    }
   ],
   "source": [
    "b"
   ]
  },
  {
   "cell_type": "code",
   "execution_count": 5,
   "id": "respected-orlando",
   "metadata": {},
   "outputs": [
    {
     "data": {
      "text/plain": [
       "1.0"
      ]
     },
     "execution_count": 5,
     "metadata": {},
     "output_type": "execute_result"
    }
   ],
   "source": [
    "b[2,2]"
   ]
  },
  {
   "cell_type": "code",
   "execution_count": 6,
   "id": "vocational-boundary",
   "metadata": {},
   "outputs": [
    {
     "name": "stdout",
     "output_type": "stream",
     "text": [
      "2.718281828459045 1.0\n"
     ]
    }
   ],
   "source": [
    "import numpy as np\n",
    "a=np.full((1,5), np.e).T.ravel()\n",
    "b=np.linspace(0,1,5)\n",
    "c=np.hstack([a,b])\n",
    "\n",
    "print(a[-1], c[-1])"
   ]
  },
  {
   "cell_type": "code",
   "execution_count": 7,
   "id": "saved-point",
   "metadata": {},
   "outputs": [
    {
     "name": "stdout",
     "output_type": "stream",
     "text": [
      "1000 4.0\n"
     ]
    }
   ],
   "source": [
    "a=np.array([0, 9, 99, 999])\n",
    "a=a+1\n",
    "a=a*100\n",
    "b=np.log10(a)\n",
    "print(a[1],b[2])"
   ]
  },
  {
   "cell_type": "code",
   "execution_count": 8,
   "id": "floating-worry",
   "metadata": {},
   "outputs": [
    {
     "name": "stdout",
     "output_type": "stream",
     "text": [
      "14 [ 7 15]\n"
     ]
    }
   ],
   "source": [
    "a=np.array([1,3])\n",
    "b=np.array([-1,5])\n",
    "c=np.array([[1,2],[3,4]])\n",
    "d=a@b\n",
    "e=np.dot(c,a)\n",
    "print(d,e)"
   ]
  },
  {
   "cell_type": "code",
   "execution_count": 9,
   "id": "emotional-vacuum",
   "metadata": {},
   "outputs": [
    {
     "name": "stdout",
     "output_type": "stream",
     "text": [
      "40 middle\n"
     ]
    }
   ],
   "source": [
    "import pandas as pd\n",
    "df=pd.DataFrame([[40, \"a\", True], [20, \"b\", False], [30, \"c\", False]])\n",
    "df.index=[\"01\", \"02\", \"03\"]\n",
    "df.columns=[ \"A\", \"B\", \"C\"]\n",
    "\n",
    "def judge(arg):\n",
    "    if arg < 50:\n",
    "        return \"low\"\n",
    "    elif arg <70:\n",
    "        return \"middle\"\n",
    "    else:\n",
    "        return \"high\"\n",
    "    \n",
    "df.loc[:, \"C\"]=df.iloc[:,0]*2\n",
    "df.loc[:, \"B\"]=df.iloc[:,2].apply(judge)\n",
    "_=df[\"C\"]>50\n",
    "df=df[_]\n",
    "print(df.iloc[0,0], df.iloc[1,1])\n",
    "\n"
   ]
  },
  {
   "cell_type": "code",
   "execution_count": 10,
   "id": "powered-afghanistan",
   "metadata": {},
   "outputs": [
    {
     "data": {
      "text/plain": [
       "[4, 3, 4]"
      ]
     },
     "execution_count": 10,
     "metadata": {},
     "output_type": "execute_result"
    }
   ],
   "source": [
    "names=[\"spam\", \"ham\", \"eggs\"]\n",
    "lens=[]\n",
    "for name in names:\n",
    "    lens.append(len(name))\n",
    "    \n",
    "lens"
   ]
  },
  {
   "cell_type": "code",
   "execution_count": 11,
   "id": "spiritual-document",
   "metadata": {},
   "outputs": [
    {
     "data": {
      "text/plain": [
       "4"
      ]
     },
     "execution_count": 11,
     "metadata": {},
     "output_type": "execute_result"
    }
   ],
   "source": [
    "len(name)"
   ]
  },
  {
   "cell_type": "code",
   "execution_count": 12,
   "id": "other-wings",
   "metadata": {},
   "outputs": [
    {
     "name": "stdout",
     "output_type": "stream",
     "text": [
      "[[5 6]] int64\n"
     ]
    }
   ],
   "source": [
    "import numpy as np\n",
    "a=np.array([[1,2,3],[4,5,6]])\n",
    "b=np.array([1,2,3])\n",
    "print(a[-1:, [1,2]], b.dtype)"
   ]
  },
  {
   "cell_type": "code",
   "execution_count": 13,
   "id": "above-hunger",
   "metadata": {},
   "outputs": [
    {
     "data": {
      "text/plain": [
       "array([[1, 2, 3],\n",
       "       [4, 5, 6]])"
      ]
     },
     "execution_count": 13,
     "metadata": {},
     "output_type": "execute_result"
    }
   ],
   "source": [
    "a"
   ]
  },
  {
   "cell_type": "code",
   "execution_count": 14,
   "id": "standard-lodge",
   "metadata": {},
   "outputs": [
    {
     "data": {
      "text/plain": [
       "array([1, 2, 3])"
      ]
     },
     "execution_count": 14,
     "metadata": {},
     "output_type": "execute_result"
    }
   ],
   "source": [
    "b"
   ]
  },
  {
   "cell_type": "code",
   "execution_count": 15,
   "id": "departmental-conservative",
   "metadata": {},
   "outputs": [
    {
     "data": {
      "text/plain": [
       "array([[4, 5, 6]])"
      ]
     },
     "execution_count": 15,
     "metadata": {},
     "output_type": "execute_result"
    }
   ],
   "source": [
    "a[-1:]"
   ]
  },
  {
   "cell_type": "code",
   "execution_count": 16,
   "id": "interstate-observer",
   "metadata": {},
   "outputs": [
    {
     "data": {
      "text/plain": [
       "array([[5, 6]])"
      ]
     },
     "execution_count": 16,
     "metadata": {},
     "output_type": "execute_result"
    }
   ],
   "source": [
    "a[-1:, [1,2]]"
   ]
  },
  {
   "cell_type": "code",
   "execution_count": 17,
   "id": "continued-penguin",
   "metadata": {},
   "outputs": [
    {
     "data": {
      "text/plain": [
       "array([4, 5, 6])"
      ]
     },
     "execution_count": 17,
     "metadata": {},
     "output_type": "execute_result"
    }
   ],
   "source": [
    "a[-1]"
   ]
  },
  {
   "cell_type": "code",
   "execution_count": 18,
   "id": "velvet-statistics",
   "metadata": {},
   "outputs": [],
   "source": [
    "b=np.eye(5)"
   ]
  },
  {
   "cell_type": "code",
   "execution_count": 19,
   "id": "involved-clearance",
   "metadata": {},
   "outputs": [
    {
     "data": {
      "text/plain": [
       "array([[1., 0., 0., 0., 0.],\n",
       "       [0., 1., 0., 0., 0.],\n",
       "       [0., 0., 1., 0., 0.],\n",
       "       [0., 0., 0., 1., 0.],\n",
       "       [0., 0., 0., 0., 1.]])"
      ]
     },
     "execution_count": 19,
     "metadata": {},
     "output_type": "execute_result"
    }
   ],
   "source": [
    "b"
   ]
  },
  {
   "cell_type": "code",
   "execution_count": 20,
   "id": "parliamentary-press",
   "metadata": {},
   "outputs": [],
   "source": [
    "import numpy as np\n",
    "a=np.full((1,5), np.e).T.ravel()\n",
    "b=np.linspace(0, 1, 5)\n",
    "c=np.hstack([a,b])\n"
   ]
  },
  {
   "cell_type": "code",
   "execution_count": 21,
   "id": "three-commander",
   "metadata": {},
   "outputs": [
    {
     "data": {
      "text/plain": [
       "array([2.71828183, 2.71828183, 2.71828183, 2.71828183, 2.71828183])"
      ]
     },
     "execution_count": 21,
     "metadata": {},
     "output_type": "execute_result"
    }
   ],
   "source": [
    "a"
   ]
  },
  {
   "cell_type": "code",
   "execution_count": 22,
   "id": "significant-beaver",
   "metadata": {},
   "outputs": [
    {
     "data": {
      "text/plain": [
       "array([0.  , 0.25, 0.5 , 0.75, 1.  ])"
      ]
     },
     "execution_count": 22,
     "metadata": {},
     "output_type": "execute_result"
    }
   ],
   "source": [
    "b"
   ]
  },
  {
   "cell_type": "code",
   "execution_count": 23,
   "id": "romantic-arnold",
   "metadata": {},
   "outputs": [
    {
     "data": {
      "text/plain": [
       "array([2.71828183, 2.71828183, 2.71828183, 2.71828183, 2.71828183,\n",
       "       0.        , 0.25      , 0.5       , 0.75      , 1.        ])"
      ]
     },
     "execution_count": 23,
     "metadata": {},
     "output_type": "execute_result"
    }
   ],
   "source": [
    "c"
   ]
  },
  {
   "cell_type": "code",
   "execution_count": 24,
   "id": "rolled-generator",
   "metadata": {},
   "outputs": [
    {
     "data": {
      "text/plain": [
       "2.718281828459045"
      ]
     },
     "execution_count": 24,
     "metadata": {},
     "output_type": "execute_result"
    }
   ],
   "source": [
    "np.e"
   ]
  },
  {
   "cell_type": "code",
   "execution_count": 25,
   "id": "referenced-corps",
   "metadata": {},
   "outputs": [
    {
     "data": {
      "text/plain": [
       "array([2.71828183, 2.71828183, 2.71828183, 2.71828183, 2.71828183])"
      ]
     },
     "execution_count": 25,
     "metadata": {},
     "output_type": "execute_result"
    }
   ],
   "source": [
    "a=np.full((1,5), np.e).T.ravel()\n",
    "a"
   ]
  },
  {
   "cell_type": "code",
   "execution_count": 26,
   "id": "dried-consciousness",
   "metadata": {},
   "outputs": [
    {
     "data": {
      "text/plain": [
       "array([[2.71828183, 2.71828183, 2.71828183, 2.71828183, 2.71828183]])"
      ]
     },
     "execution_count": 26,
     "metadata": {},
     "output_type": "execute_result"
    }
   ],
   "source": [
    "a2=np.full((1,5), np.e)\n",
    "a2"
   ]
  },
  {
   "cell_type": "code",
   "execution_count": 27,
   "id": "urban-vehicle",
   "metadata": {},
   "outputs": [
    {
     "data": {
      "text/plain": [
       "array([[0, 1, 2],\n",
       "       [3, 4, 5],\n",
       "       [6, 7, 8]])"
      ]
     },
     "execution_count": 27,
     "metadata": {},
     "output_type": "execute_result"
    }
   ],
   "source": [
    "arr3d=np.arange(9).reshape((3,3))\n",
    "arr3d"
   ]
  },
  {
   "cell_type": "code",
   "execution_count": 28,
   "id": "broke-benchmark",
   "metadata": {},
   "outputs": [
    {
     "data": {
      "text/plain": [
       "array([[0, 3, 6],\n",
       "       [1, 4, 7],\n",
       "       [2, 5, 8]])"
      ]
     },
     "execution_count": 28,
     "metadata": {},
     "output_type": "execute_result"
    }
   ],
   "source": [
    "arr3d.T"
   ]
  },
  {
   "cell_type": "code",
   "execution_count": 29,
   "id": "completed-chrome",
   "metadata": {},
   "outputs": [
    {
     "data": {
      "text/plain": [
       "array([0, 3, 6, 1, 4, 7, 2, 5, 8])"
      ]
     },
     "execution_count": 29,
     "metadata": {},
     "output_type": "execute_result"
    }
   ],
   "source": [
    "arr3d.T.ravel()"
   ]
  },
  {
   "cell_type": "code",
   "execution_count": 30,
   "id": "cultural-terrorist",
   "metadata": {},
   "outputs": [
    {
     "name": "stdout",
     "output_type": "stream",
     "text": [
      "14 [ 7 15]\n"
     ]
    }
   ],
   "source": [
    "import numpy as np\n",
    "a=np.array([1,3])\n",
    "b=np.array([-1,5])\n",
    "c=np.array([[1,2],[3,4]])\n",
    "d=a@b\n",
    "e=np.dot(c,a)\n",
    "print(d,e)"
   ]
  },
  {
   "cell_type": "code",
   "execution_count": 31,
   "id": "polar-underwear",
   "metadata": {},
   "outputs": [
    {
     "name": "stdout",
     "output_type": "stream",
     "text": [
      "[1 3]\n",
      "[-1  5]\n",
      "[[1 2]\n",
      " [3 4]]\n",
      "14\n",
      "[ 7 15]\n"
     ]
    }
   ],
   "source": [
    "print(a)\n",
    "print(b)\n",
    "print(c)\n",
    "print(d)\n",
    "print(e)"
   ]
  },
  {
   "cell_type": "code",
   "execution_count": 32,
   "id": "unlimited-washington",
   "metadata": {},
   "outputs": [
    {
     "name": "stdout",
     "output_type": "stream",
     "text": [
      "40 middle\n"
     ]
    }
   ],
   "source": [
    "import numpy as np\n",
    "import pandas as pd\n",
    "df=pd.DataFrame([[40, \"a\", True], [20, \"b\", False], [30, \"c\", False]])\n",
    "df.index=[\"01\", \"02\", \"03\"]\n",
    "df.columns=[\"A\", \"B\", \"C\"]\n",
    "\n",
    "def judge(arg):\n",
    "    if arg<50:\n",
    "        return \"low\"\n",
    "    elif arg<70:\n",
    "        return \"middle\"\n",
    "    else:\n",
    "        return \"high\"\n",
    "    \n",
    "df.loc[:, \"C\"]=df.iloc[:,0]*2\n",
    "df.loc[:, \"B\"]=df.iloc[:,2].apply(judge)\n",
    "_=df[\"C\"]>50\n",
    "df=df[_]\n",
    "print(df.iloc[0,0], df.iloc[1,1])"
   ]
  },
  {
   "cell_type": "code",
   "execution_count": 33,
   "id": "special-belle",
   "metadata": {},
   "outputs": [],
   "source": [
    "import numpy as np\n",
    "import pandas as pd\n",
    "np.random.seed(123)\n",
    "dates=pd.date_range(start=\"2017-04-01\", periods=365)\n",
    "df=pd.DataFrame(np.random.randint(1,31,365), index=dates, columns=[\"rand\"])\n",
    "df_year=pd.DataFrame(df.groupby(pd.Grouper(freq=\"W-SAT\")).sum(), columns=[\"rand\"])"
   ]
  },
  {
   "cell_type": "code",
   "execution_count": 34,
   "id": "alternative-elizabeth",
   "metadata": {},
   "outputs": [
    {
     "data": {
      "text/plain": [
       "DatetimeIndex(['2017-04-01', '2017-04-02', '2017-04-03', '2017-04-04',\n",
       "               '2017-04-05', '2017-04-06', '2017-04-07', '2017-04-08',\n",
       "               '2017-04-09', '2017-04-10',\n",
       "               ...\n",
       "               '2018-03-22', '2018-03-23', '2018-03-24', '2018-03-25',\n",
       "               '2018-03-26', '2018-03-27', '2018-03-28', '2018-03-29',\n",
       "               '2018-03-30', '2018-03-31'],\n",
       "              dtype='datetime64[ns]', length=365, freq='D')"
      ]
     },
     "execution_count": 34,
     "metadata": {},
     "output_type": "execute_result"
    }
   ],
   "source": [
    "dates"
   ]
  },
  {
   "cell_type": "code",
   "execution_count": 35,
   "id": "saving-nightlife",
   "metadata": {},
   "outputs": [
    {
     "data": {
      "text/html": [
       "<div>\n",
       "<style scoped>\n",
       "    .dataframe tbody tr th:only-of-type {\n",
       "        vertical-align: middle;\n",
       "    }\n",
       "\n",
       "    .dataframe tbody tr th {\n",
       "        vertical-align: top;\n",
       "    }\n",
       "\n",
       "    .dataframe thead th {\n",
       "        text-align: right;\n",
       "    }\n",
       "</style>\n",
       "<table border=\"1\" class=\"dataframe\">\n",
       "  <thead>\n",
       "    <tr style=\"text-align: right;\">\n",
       "      <th></th>\n",
       "      <th>rand</th>\n",
       "    </tr>\n",
       "  </thead>\n",
       "  <tbody>\n",
       "    <tr>\n",
       "      <th>2017-04-01</th>\n",
       "      <td>14</td>\n",
       "    </tr>\n",
       "    <tr>\n",
       "      <th>2017-04-02</th>\n",
       "      <td>3</td>\n",
       "    </tr>\n",
       "    <tr>\n",
       "      <th>2017-04-03</th>\n",
       "      <td>29</td>\n",
       "    </tr>\n",
       "    <tr>\n",
       "      <th>2017-04-04</th>\n",
       "      <td>3</td>\n",
       "    </tr>\n",
       "    <tr>\n",
       "      <th>2017-04-05</th>\n",
       "      <td>7</td>\n",
       "    </tr>\n",
       "    <tr>\n",
       "      <th>...</th>\n",
       "      <td>...</td>\n",
       "    </tr>\n",
       "    <tr>\n",
       "      <th>2018-03-27</th>\n",
       "      <td>22</td>\n",
       "    </tr>\n",
       "    <tr>\n",
       "      <th>2018-03-28</th>\n",
       "      <td>5</td>\n",
       "    </tr>\n",
       "    <tr>\n",
       "      <th>2018-03-29</th>\n",
       "      <td>22</td>\n",
       "    </tr>\n",
       "    <tr>\n",
       "      <th>2018-03-30</th>\n",
       "      <td>1</td>\n",
       "    </tr>\n",
       "    <tr>\n",
       "      <th>2018-03-31</th>\n",
       "      <td>8</td>\n",
       "    </tr>\n",
       "  </tbody>\n",
       "</table>\n",
       "<p>365 rows × 1 columns</p>\n",
       "</div>"
      ],
      "text/plain": [
       "            rand\n",
       "2017-04-01    14\n",
       "2017-04-02     3\n",
       "2017-04-03    29\n",
       "2017-04-04     3\n",
       "2017-04-05     7\n",
       "...          ...\n",
       "2018-03-27    22\n",
       "2018-03-28     5\n",
       "2018-03-29    22\n",
       "2018-03-30     1\n",
       "2018-03-31     8\n",
       "\n",
       "[365 rows x 1 columns]"
      ]
     },
     "execution_count": 35,
     "metadata": {},
     "output_type": "execute_result"
    }
   ],
   "source": [
    "df"
   ]
  },
  {
   "cell_type": "code",
   "execution_count": 36,
   "id": "pointed-liverpool",
   "metadata": {},
   "outputs": [
    {
     "data": {
      "text/html": [
       "<div>\n",
       "<style scoped>\n",
       "    .dataframe tbody tr th:only-of-type {\n",
       "        vertical-align: middle;\n",
       "    }\n",
       "\n",
       "    .dataframe tbody tr th {\n",
       "        vertical-align: top;\n",
       "    }\n",
       "\n",
       "    .dataframe thead th {\n",
       "        text-align: right;\n",
       "    }\n",
       "</style>\n",
       "<table border=\"1\" class=\"dataframe\">\n",
       "  <thead>\n",
       "    <tr style=\"text-align: right;\">\n",
       "      <th></th>\n",
       "      <th>rand</th>\n",
       "    </tr>\n",
       "  </thead>\n",
       "  <tbody>\n",
       "    <tr>\n",
       "      <th>2017-04-01</th>\n",
       "      <td>14</td>\n",
       "    </tr>\n",
       "    <tr>\n",
       "      <th>2017-04-08</th>\n",
       "      <td>91</td>\n",
       "    </tr>\n",
       "    <tr>\n",
       "      <th>2017-04-15</th>\n",
       "      <td>114</td>\n",
       "    </tr>\n",
       "    <tr>\n",
       "      <th>2017-04-22</th>\n",
       "      <td>89</td>\n",
       "    </tr>\n",
       "    <tr>\n",
       "      <th>2017-04-29</th>\n",
       "      <td>91</td>\n",
       "    </tr>\n",
       "    <tr>\n",
       "      <th>2017-05-06</th>\n",
       "      <td>84</td>\n",
       "    </tr>\n",
       "    <tr>\n",
       "      <th>2017-05-13</th>\n",
       "      <td>110</td>\n",
       "    </tr>\n",
       "    <tr>\n",
       "      <th>2017-05-20</th>\n",
       "      <td>133</td>\n",
       "    </tr>\n",
       "    <tr>\n",
       "      <th>2017-05-27</th>\n",
       "      <td>70</td>\n",
       "    </tr>\n",
       "    <tr>\n",
       "      <th>2017-06-03</th>\n",
       "      <td>83</td>\n",
       "    </tr>\n",
       "    <tr>\n",
       "      <th>2017-06-10</th>\n",
       "      <td>124</td>\n",
       "    </tr>\n",
       "    <tr>\n",
       "      <th>2017-06-17</th>\n",
       "      <td>119</td>\n",
       "    </tr>\n",
       "    <tr>\n",
       "      <th>2017-06-24</th>\n",
       "      <td>94</td>\n",
       "    </tr>\n",
       "    <tr>\n",
       "      <th>2017-07-01</th>\n",
       "      <td>116</td>\n",
       "    </tr>\n",
       "    <tr>\n",
       "      <th>2017-07-08</th>\n",
       "      <td>116</td>\n",
       "    </tr>\n",
       "    <tr>\n",
       "      <th>2017-07-15</th>\n",
       "      <td>135</td>\n",
       "    </tr>\n",
       "    <tr>\n",
       "      <th>2017-07-22</th>\n",
       "      <td>109</td>\n",
       "    </tr>\n",
       "    <tr>\n",
       "      <th>2017-07-29</th>\n",
       "      <td>61</td>\n",
       "    </tr>\n",
       "    <tr>\n",
       "      <th>2017-08-05</th>\n",
       "      <td>108</td>\n",
       "    </tr>\n",
       "    <tr>\n",
       "      <th>2017-08-12</th>\n",
       "      <td>122</td>\n",
       "    </tr>\n",
       "    <tr>\n",
       "      <th>2017-08-19</th>\n",
       "      <td>87</td>\n",
       "    </tr>\n",
       "    <tr>\n",
       "      <th>2017-08-26</th>\n",
       "      <td>99</td>\n",
       "    </tr>\n",
       "    <tr>\n",
       "      <th>2017-09-02</th>\n",
       "      <td>126</td>\n",
       "    </tr>\n",
       "    <tr>\n",
       "      <th>2017-09-09</th>\n",
       "      <td>70</td>\n",
       "    </tr>\n",
       "    <tr>\n",
       "      <th>2017-09-16</th>\n",
       "      <td>106</td>\n",
       "    </tr>\n",
       "    <tr>\n",
       "      <th>2017-09-23</th>\n",
       "      <td>94</td>\n",
       "    </tr>\n",
       "    <tr>\n",
       "      <th>2017-09-30</th>\n",
       "      <td>110</td>\n",
       "    </tr>\n",
       "    <tr>\n",
       "      <th>2017-10-07</th>\n",
       "      <td>149</td>\n",
       "    </tr>\n",
       "    <tr>\n",
       "      <th>2017-10-14</th>\n",
       "      <td>63</td>\n",
       "    </tr>\n",
       "    <tr>\n",
       "      <th>2017-10-21</th>\n",
       "      <td>126</td>\n",
       "    </tr>\n",
       "    <tr>\n",
       "      <th>2017-10-28</th>\n",
       "      <td>107</td>\n",
       "    </tr>\n",
       "    <tr>\n",
       "      <th>2017-11-04</th>\n",
       "      <td>98</td>\n",
       "    </tr>\n",
       "    <tr>\n",
       "      <th>2017-11-11</th>\n",
       "      <td>97</td>\n",
       "    </tr>\n",
       "    <tr>\n",
       "      <th>2017-11-18</th>\n",
       "      <td>100</td>\n",
       "    </tr>\n",
       "    <tr>\n",
       "      <th>2017-11-25</th>\n",
       "      <td>122</td>\n",
       "    </tr>\n",
       "    <tr>\n",
       "      <th>2017-12-02</th>\n",
       "      <td>120</td>\n",
       "    </tr>\n",
       "    <tr>\n",
       "      <th>2017-12-09</th>\n",
       "      <td>174</td>\n",
       "    </tr>\n",
       "    <tr>\n",
       "      <th>2017-12-16</th>\n",
       "      <td>114</td>\n",
       "    </tr>\n",
       "    <tr>\n",
       "      <th>2017-12-23</th>\n",
       "      <td>146</td>\n",
       "    </tr>\n",
       "    <tr>\n",
       "      <th>2017-12-30</th>\n",
       "      <td>95</td>\n",
       "    </tr>\n",
       "    <tr>\n",
       "      <th>2018-01-06</th>\n",
       "      <td>97</td>\n",
       "    </tr>\n",
       "    <tr>\n",
       "      <th>2018-01-13</th>\n",
       "      <td>73</td>\n",
       "    </tr>\n",
       "    <tr>\n",
       "      <th>2018-01-20</th>\n",
       "      <td>127</td>\n",
       "    </tr>\n",
       "    <tr>\n",
       "      <th>2018-01-27</th>\n",
       "      <td>121</td>\n",
       "    </tr>\n",
       "    <tr>\n",
       "      <th>2018-02-03</th>\n",
       "      <td>86</td>\n",
       "    </tr>\n",
       "    <tr>\n",
       "      <th>2018-02-10</th>\n",
       "      <td>50</td>\n",
       "    </tr>\n",
       "    <tr>\n",
       "      <th>2018-02-17</th>\n",
       "      <td>76</td>\n",
       "    </tr>\n",
       "    <tr>\n",
       "      <th>2018-02-24</th>\n",
       "      <td>132</td>\n",
       "    </tr>\n",
       "    <tr>\n",
       "      <th>2018-03-03</th>\n",
       "      <td>105</td>\n",
       "    </tr>\n",
       "    <tr>\n",
       "      <th>2018-03-10</th>\n",
       "      <td>139</td>\n",
       "    </tr>\n",
       "    <tr>\n",
       "      <th>2018-03-17</th>\n",
       "      <td>149</td>\n",
       "    </tr>\n",
       "    <tr>\n",
       "      <th>2018-03-24</th>\n",
       "      <td>114</td>\n",
       "    </tr>\n",
       "    <tr>\n",
       "      <th>2018-03-31</th>\n",
       "      <td>101</td>\n",
       "    </tr>\n",
       "  </tbody>\n",
       "</table>\n",
       "</div>"
      ],
      "text/plain": [
       "            rand\n",
       "2017-04-01    14\n",
       "2017-04-08    91\n",
       "2017-04-15   114\n",
       "2017-04-22    89\n",
       "2017-04-29    91\n",
       "2017-05-06    84\n",
       "2017-05-13   110\n",
       "2017-05-20   133\n",
       "2017-05-27    70\n",
       "2017-06-03    83\n",
       "2017-06-10   124\n",
       "2017-06-17   119\n",
       "2017-06-24    94\n",
       "2017-07-01   116\n",
       "2017-07-08   116\n",
       "2017-07-15   135\n",
       "2017-07-22   109\n",
       "2017-07-29    61\n",
       "2017-08-05   108\n",
       "2017-08-12   122\n",
       "2017-08-19    87\n",
       "2017-08-26    99\n",
       "2017-09-02   126\n",
       "2017-09-09    70\n",
       "2017-09-16   106\n",
       "2017-09-23    94\n",
       "2017-09-30   110\n",
       "2017-10-07   149\n",
       "2017-10-14    63\n",
       "2017-10-21   126\n",
       "2017-10-28   107\n",
       "2017-11-04    98\n",
       "2017-11-11    97\n",
       "2017-11-18   100\n",
       "2017-11-25   122\n",
       "2017-12-02   120\n",
       "2017-12-09   174\n",
       "2017-12-16   114\n",
       "2017-12-23   146\n",
       "2017-12-30    95\n",
       "2018-01-06    97\n",
       "2018-01-13    73\n",
       "2018-01-20   127\n",
       "2018-01-27   121\n",
       "2018-02-03    86\n",
       "2018-02-10    50\n",
       "2018-02-17    76\n",
       "2018-02-24   132\n",
       "2018-03-03   105\n",
       "2018-03-10   139\n",
       "2018-03-17   149\n",
       "2018-03-24   114\n",
       "2018-03-31   101"
      ]
     },
     "execution_count": 36,
     "metadata": {},
     "output_type": "execute_result"
    }
   ],
   "source": [
    "df_year"
   ]
  },
  {
   "cell_type": "code",
   "execution_count": 38,
   "id": "miniature-vacuum",
   "metadata": {},
   "outputs": [
    {
     "data": {
      "image/png": "[encoded data removed]",
      "text/plain": [
       "<Figure size 432x288 with 1 Axes>"
      ]
     },
     "metadata": {
      "needs_background": "light"
     },
     "output_type": "display_data"
    }
   ],
   "source": [
    "import numpy as np\n",
    "import pandas as pd\n",
    "import matplotlib.pyplot as plt\n",
    "x=np.arange(0.0, 15.0, 0.1)\n",
    "y1=np.sin(x)\n",
    "y2=np.cos(x)\n",
    "fig, ax=plt.subplots()\n",
    "ax.plot(x, y1, label='sin')\n",
    "ax.plot(x, y2, label='cos')\n",
    "ax.legend()\n",
    "plt.show()"
   ]
  },
  {
   "cell_type": "code",
   "execution_count": 55,
   "id": "bigger-affiliate",
   "metadata": {},
   "outputs": [
    {
     "ename": "AttributeError",
     "evalue": "'numpy.ndarray' object has no attribute 'legend'",
     "output_type": "error",
     "traceback": [
      "\u001b[0;31m---------------------------------------------------------------------------\u001b[0m",
      "\u001b[0;31mAttributeError\u001b[0m                            Traceback (most recent call last)",
      "\u001b[0;32m<ipython-input-55-6f43df3dc3ae>\u001b[0m in \u001b[0;36m<module>\u001b[0;34m\u001b[0m\n\u001b[1;32m      8\u001b[0m \u001b[0max\u001b[0m\u001b[0;34m[\u001b[0m\u001b[0;36m0\u001b[0m\u001b[0;34m,\u001b[0m\u001b[0;36m0\u001b[0m\u001b[0;34m]\u001b[0m\u001b[0;34m.\u001b[0m\u001b[0mplot\u001b[0m\u001b[0;34m(\u001b[0m\u001b[0mx\u001b[0m\u001b[0;34m,\u001b[0m \u001b[0my1\u001b[0m\u001b[0;34m,\u001b[0m \u001b[0mlabel\u001b[0m\u001b[0;34m=\u001b[0m\u001b[0;34m'sin'\u001b[0m\u001b[0;34m)\u001b[0m\u001b[0;34m\u001b[0m\u001b[0;34m\u001b[0m\u001b[0m\n\u001b[1;32m      9\u001b[0m \u001b[0max\u001b[0m\u001b[0;34m[\u001b[0m\u001b[0;36m1\u001b[0m\u001b[0;34m,\u001b[0m\u001b[0;36m1\u001b[0m\u001b[0;34m]\u001b[0m\u001b[0;34m.\u001b[0m\u001b[0mplot\u001b[0m\u001b[0;34m(\u001b[0m\u001b[0mx\u001b[0m\u001b[0;34m,\u001b[0m \u001b[0my2\u001b[0m\u001b[0;34m,\u001b[0m \u001b[0mlabel\u001b[0m\u001b[0;34m=\u001b[0m\u001b[0;34m'cos'\u001b[0m\u001b[0;34m)\u001b[0m\u001b[0;34m\u001b[0m\u001b[0;34m\u001b[0m\u001b[0m\n\u001b[0;32m---> 10\u001b[0;31m \u001b[0max\u001b[0m\u001b[0;34m.\u001b[0m\u001b[0mlegend\u001b[0m\u001b[0;34m(\u001b[0m\u001b[0;34m)\u001b[0m\u001b[0;34m\u001b[0m\u001b[0;34m\u001b[0m\u001b[0m\n\u001b[0m\u001b[1;32m     11\u001b[0m \u001b[0mplt\u001b[0m\u001b[0;34m.\u001b[0m\u001b[0mshow\u001b[0m\u001b[0;34m(\u001b[0m\u001b[0;34m)\u001b[0m\u001b[0;34m\u001b[0m\u001b[0;34m\u001b[0m\u001b[0m\n",
      "\u001b[0;31mAttributeError\u001b[0m: 'numpy.ndarray' object has no attribute 'legend'"
     ]
    },
    {
     "data": {
      "image/png": "[encoded data removed]",
      "text/plain": [
       "<Figure size 432x288 with 4 Axes>"
      ]
     },
     "metadata": {
      "needs_background": "light"
     },
     "output_type": "display_data"
    }
   ],
   "source": [
    "import numpy as np\n",
    "import pandas as pd\n",
    "import matplotlib.pyplot as plt\n",
    "x=np.arange(0.0, 15.0, 0.1)\n",
    "y1=np.sin(x)\n",
    "y2=np.cos(x)\n",
    "fig, ax=plt.subplots(2,2)\n",
    "ax[0,0].plot(x, y1, label='sin')\n",
    "ax[1,1].plot(x, y2, label='cos')\n",
    "ax.legend()\n",
    "plt.show()"
   ]
  },
  {
   "cell_type": "code",
   "execution_count": 49,
   "id": "impressed-beginning",
   "metadata": {},
   "outputs": [
    {
     "data": {
      "image/png": "[encoded data removed]",
      "text/plain": [
       "<Figure size 432x288 with 1 Axes>"
      ]
     },
     "metadata": {
      "needs_background": "light"
     },
     "output_type": "display_data"
    }
   ],
   "source": [
    "import numpy as np\n",
    "import pandas as pd\n",
    "import matplotlib.pyplot as plt\n",
    "x=np.arange(0.0, 15.0, 0.1)\n",
    "y1=np.sin(x)\n",
    "y2=np.cos(x)\n",
    "y3=np.sin(x)+np.cos(x)\n",
    "fig, ax=plt.subplots()\n",
    "ax.plot(x, y1, label='sin')\n",
    "ax.plot(x, y2, label='cos')\n",
    "ax.plot(x, y3, label=\"sin+cos\")\n",
    "ax.legend()\n",
    "plt.show()"
   ]
  },
  {
   "cell_type": "code",
   "execution_count": 53,
   "id": "future-isaac",
   "metadata": {},
   "outputs": [
    {
     "data": {
      "image/png": "[encoded data removed]",
      "text/plain": [
       "<Figure size 432x288 with 1 Axes>"
      ]
     },
     "metadata": {
      "needs_background": "light"
     },
     "output_type": "display_data"
    }
   ],
   "source": [
    "import numpy as np\n",
    "import pandas as pd\n",
    "import matplotlib.pyplot as plt\n",
    "x=np.arange(0.0, 15.0, 0.1)\n",
    "y1=np.sin(x)\n",
    "y2=np.cos(x)\n",
    "plt.plot(x,y1)\n",
    "plt.plot(x,y2)\n",
    "ax.plot(x, y1, label='sin')\n",
    "ax.plot(x, y2, label='cos')\n",
    "ax.legend()\n",
    "plt.show()"
   ]
  },
  {
   "cell_type": "code",
   "execution_count": 58,
   "id": "given-joining",
   "metadata": {},
   "outputs": [
    {
     "name": "stdout",
     "output_type": "stream",
     "text": [
      "51.53-55.622.0\n",
      "55.62-59.703.0\n",
      "59.70-63.786.0\n",
      "63.78-67.867.0\n",
      "67.86-71.9416.0\n",
      "71.94-76.0229.0\n",
      "76.02-80.1137.0\n",
      "80.11-84.1965.0\n",
      "84.19-88.2757.0\n",
      "88.27-92.3590.0\n",
      "92.35-96.43105.0\n",
      "96.43-100.51115.0\n",
      "100.51-104.59116.0\n",
      "104.59-108.6878.0\n",
      "108.68-112.7674.0\n",
      "112.76-116.8477.0\n",
      "116.84-120.9242.0\n",
      "120.92-125.0041.0\n",
      "125.00-129.0821.0\n",
      "129.08-133.1710.0\n",
      "133.17-137.254.0\n",
      "137.25-141.332.0\n",
      "141.33-145.412.0\n",
      "145.41-149.490.0\n",
      "149.49-153.571.0\n"
     ]
    },
    {
     "data": {
      "image/png": "[encoded data removed]",
      "text/plain": [
       "<Figure size 432x288 with 1 Axes>"
      ]
     },
     "metadata": {
      "needs_background": "light"
     },
     "output_type": "display_data"
    }
   ],
   "source": [
    "import numpy as np\n",
    "import matplotlib.pyplot as plt\n",
    "np.random.seed(123)\n",
    "mu=100\n",
    "sigma=15\n",
    "x=np.random.normal(mu, sigma, 1000)\n",
    "fig, ax=plt.subplots()\n",
    "n, bins, patches=ax.hist(x, bins=25, orientation=\"horizontal\")\n",
    "for i, num in enumerate(n):\n",
    "    print('{:.2f}-{:.2f}{}'.format(bins[i], bins[i+1], num))\n",
    "plt.show()"
   ]
  },
  {
   "cell_type": "code",
   "execution_count": 61,
   "id": "liquid-coaching",
   "metadata": {},
   "outputs": [
    {
     "data": {
      "image/png": "[encoded data removed]",
      "text/plain": [
       "<Figure size 432x288 with 1 Axes>"
      ]
     },
     "metadata": {},
     "output_type": "display_data"
    }
   ],
   "source": [
    "import matplotlib.pyplot as plt\n",
    "labels=[\"spam\",\"ham\",\"egg\"]\n",
    "x=[10, 3, 1]\n",
    "fig, ax=plt.subplots()\n",
    "ax.pie(x, labels=labels, startangle=90, counterclock=False, autopct='%1.2f%%')\n",
    "plt.show()"
   ]
  },
  {
   "cell_type": "code",
   "execution_count": 66,
   "id": "passing-timer",
   "metadata": {},
   "outputs": [],
   "source": [
    "from sklearn import datasets, linear_model\n",
    "\n",
    "from sklearn.linear_model import LinearRegression\n",
    "from sklearn.datasets import load_boston\n",
    "from sklearn.model_selection import train_test_split\n",
    "\n",
    "boston=load_boston()\n",
    "X,y=boston.data, boston.target\n",
    "X_train,X_test,y_train,y_test=train_test_split(X,y,test_size=0.3,random_state=123)\n",
    "lr=LinearRegression()\n",
    "lr.fit(X_train,y_train)\n",
    "y_pred=lr.predict(X_test)"
   ]
  },
  {
   "cell_type": "code",
   "execution_count": 67,
   "id": "thick-chair",
   "metadata": {},
   "outputs": [
    {
     "data": {
      "text/plain": [
       "(506, 13)"
      ]
     },
     "execution_count": 67,
     "metadata": {},
     "output_type": "execute_result"
    }
   ],
   "source": [
    "X.shape"
   ]
  },
  {
   "cell_type": "code",
   "execution_count": 68,
   "id": "unlike-freight",
   "metadata": {},
   "outputs": [
    {
     "data": {
      "text/plain": [
       "(506,)"
      ]
     },
     "execution_count": 68,
     "metadata": {},
     "output_type": "execute_result"
    }
   ],
   "source": [
    "y.shape"
   ]
  },
  {
   "cell_type": "code",
   "execution_count": 73,
   "id": "secure-anchor",
   "metadata": {},
   "outputs": [
    {
     "name": "stdout",
     "output_type": "stream",
     "text": [
      "[[2.21880e-01 2.00000e+01 6.96000e+00 ... 1.86000e+01 3.90770e+02\n",
      "  6.58000e+00]\n",
      " [5.36000e-02 2.10000e+01 5.64000e+00 ... 1.68000e+01 3.96900e+02\n",
      "  5.28000e+00]\n",
      " [6.88800e-02 0.00000e+00 2.46000e+00 ... 1.78000e+01 3.96900e+02\n",
      "  9.45000e+00]\n",
      " ...\n",
      " [3.51140e-01 0.00000e+00 7.38000e+00 ... 1.96000e+01 3.96900e+02\n",
      "  7.70000e+00]\n",
      " [9.18702e+00 0.00000e+00 1.81000e+01 ... 2.02000e+01 3.96900e+02\n",
      "  2.36000e+01]\n",
      " [4.55587e+00 0.00000e+00 1.81000e+01 ... 2.02000e+01 3.54700e+02\n",
      "  7.12000e+00]]\n",
      "[[5.11358e+01 0.00000e+00 1.81000e+01 ... 2.02000e+01 2.60000e+00\n",
      "  1.01100e+01]\n",
      " [5.73500e-02 0.00000e+00 4.49000e+00 ... 1.85000e+01 3.92300e+02\n",
      "  6.53000e+00]\n",
      " [3.57800e-02 2.00000e+01 3.33000e+00 ... 1.49000e+01 3.87310e+02\n",
      "  3.76000e+00]\n",
      " ...\n",
      " [1.49632e+00 0.00000e+00 1.95800e+01 ... 1.47000e+01 3.41600e+02\n",
      "  1.32800e+01]\n",
      " [1.22472e+01 0.00000e+00 1.81000e+01 ... 2.02000e+01 2.46500e+01\n",
      "  1.56900e+01]\n",
      " [3.56868e+00 0.00000e+00 1.81000e+01 ... 2.02000e+01 3.93370e+02\n",
      "  1.43600e+01]]\n",
      "[35.2 25.  36.2 16.1 10.9 36.4 25.  20.1 16.8 23.7 42.3 17.9 12.7 50.\n",
      " 18.4 33.4 22.9 14.6 29.9 22.6 22.5 29.  50.  37.9 21.4 29.4 20.3 23.\n",
      " 30.1 21.7 36.5 25.  24.5 37.3 33.8 24.7 32.7 23.1 25.1 21.7 13.4 24.8\n",
      " 12.7 11.8  8.3 20.2 41.3 23.2 23.1 24.3 19.3 10.8 18.6 29.  23.9 19.5\n",
      " 13.1 31.7 21.  18.2 21.  21.2 14.1 33.2 13.8 19.9 21.7 20.6 21.2 13.6\n",
      " 18.9 18.  24.1 28.7 23.4 15.2 23.6 13.8 11.7 16.3 50.  13.5 50.  31.5\n",
      " 22.6 12.1 21.7 14.1 22.4 13.4 33.1 20.6  8.3 36.2  6.3 21.5 23.3 24.\n",
      " 19.1 29.6 27.9 16.2  9.5 24.6 15.6  8.1 15.3 19.  22.  28.  19.2 14.5\n",
      "  9.7 30.7 20.6 16.  19.8 17.8 21.2 28.7 41.7  7.2 13.4 17.7 26.7 23.8\n",
      " 21.8 27.1 18.3  5.  10.4 18.5 17.4 28.6 50.  14.2 31.2  8.4 23.  35.1\n",
      " 23.9 20.3 46.7 15.  18.4 17.8 22.5 18.8 20.9 50.  29.1 17.1 10.5 18.8\n",
      " 27.5 19.5 22.   5.  21.7 50.  35.4 32.  20.5 16.8 22.9  8.5 50.  22.2\n",
      " 15.2 22.6  7.  19.3 26.4 12.8 19.2 19.7 38.7 30.3 25.  23.7 11.7 17.5\n",
      "  5.6 25.  14.9 22.3 20.5 50.  24.8 20.7 23.2 19.7 19.4 29.8 34.9 11.\n",
      " 12.5 23.5 24.4 16.5 20.8 23.3 24.4 19.3 19.6 21.  14.4 23.6 21.4 28.2\n",
      " 24.8 18.5 21.9 23.1 18.7 26.6 25.  44.  22.  27.1 16.2  8.4 20.  22.5\n",
      " 19.4 25.  18.4 23.1 33.1 31.1 19.5 21.2 20.6 19.8 21.9 21.7 14.8 14.\n",
      " 34.6 13.3 18.2 22.2 22.8 48.8 27.5 23.7 30.1 13.1 11.9 18.2 19.3 15.4\n",
      " 17.8 22.  33.4 16.5 24.7 36.1 48.3 13.8 20.5 21.6 20.2 43.5 13.3 19.4\n",
      " 13.9 32.5 21.7 50.  24.7 14.3 22.6 17.6 20.9 21.1 15.1 12.  17.  50.\n",
      " 11.9 24.2 20.  24.3 23.  17.8 25.2 15.6 22.6 29.1 12.7 23.8  8.8 17.1\n",
      " 33.  24.6 18.3  7.4 23.8 20.  28.5 17.2 22.9 20.4 28.1 30.1 22.7 39.8\n",
      " 24.5 10.4 33.2 19.9 18.1 23.2 11.8  7.  23.9 23.9 30.8 18.7 34.7 15.2\n",
      " 22.1 28.4 17.4 24.4 20.1 16.7 42.8 20.7 19.  27.5 22.8 44.8 14.5 13.2\n",
      " 23.4 16.6 15.7 18.7 21.4 50.  23.7 31.6 17.3 19.5 22.9 17.5 24.3 43.8\n",
      " 16.7 20.4 11.3 27.5]\n",
      "[15.  26.6 45.4 20.8 34.9 21.9 28.7  7.2 20.  32.2 24.1 18.5 13.5 27.\n",
      " 23.1 18.9 24.5 43.1 19.8 13.8 15.6 50.  37.2 46.  50.  21.2 14.9 19.6\n",
      " 19.4 18.6 26.5 32.  10.9 20.  21.4 31.  25.  15.4 13.1 37.6 37.  18.9\n",
      " 27.9 50.  14.4 22.  19.9 21.6 15.6 15.  32.4 29.6 20.4 12.3 19.1 14.9\n",
      " 17.8  8.8 35.4 11.5 19.6 20.6 15.6 19.9 23.3 22.3 24.8 16.1 22.8 30.5\n",
      " 20.4 24.4 16.6 26.2 16.4 20.1 13.9 19.4 22.8 13.8 31.6 10.5 23.8 22.4\n",
      " 19.3 22.2 12.6 19.4 22.2 29.8  9.6 34.9 21.4 25.3 32.9 26.6 14.6 31.5\n",
      " 23.3 33.3 17.5 19.1 48.5 17.1 23.1 28.4 18.9 13.  17.2 24.1 18.5 21.8\n",
      " 13.3 23.  14.1 23.9 24.  17.2 21.5 19.1 20.8 36.  20.1  8.7 13.6 22.\n",
      " 22.2 21.1 13.4 17.4 20.1 10.2 23.1 10.2 13.1 14.3 14.5  7.2 19.6 20.6\n",
      " 22.7 26.4  7.5 20.3 50.   8.5 20.3 16.1 22.  19.6 10.2 23.2]\n"
     ]
    }
   ],
   "source": [
    "print(X_train)\n",
    "print(X_test)\n",
    "print(y_train)\n",
    "print(y_test)"
   ]
  },
  {
   "cell_type": "code",
   "execution_count": 77,
   "id": "olive-theme",
   "metadata": {},
   "outputs": [
    {
     "data": {
      "text/plain": [
       "(354, 13)"
      ]
     },
     "execution_count": 77,
     "metadata": {},
     "output_type": "execute_result"
    }
   ],
   "source": [
    "X_train.shape\n"
   ]
  },
  {
   "cell_type": "code",
   "execution_count": 82,
   "id": "realistic-venue",
   "metadata": {},
   "outputs": [
    {
     "data": {
      "text/plain": [
       "array([ 5.64,  2.46, 18.1 , 18.1 ,  3.44, 18.1 ,  8.56,  9.69, 18.1 ,\n",
       "        2.03, 18.1 , 18.1 ,  2.68, 18.1 ,  2.18,  7.87, 19.58,  4.05,\n",
       "        3.24,  2.24,  2.24,  3.97,  2.46, 18.1 ,  4.05, 13.92,  7.38,\n",
       "        6.2 ,  6.2 ,  3.97, 19.58,  5.86,  4.95,  3.97,  5.96,  1.52,\n",
       "        9.9 ,  6.2 ,  7.87, 18.1 ,  5.32,  8.14, 19.58, 18.1 , 18.1 ,\n",
       "       19.58,  5.32,  4.15,  5.86,  3.24, 18.1 ,  1.69,  6.2 ,  4.86,\n",
       "        8.56, 18.1 ,  6.2 ,  5.96,  8.14,  8.14, 12.83, 18.1 ,  6.41,\n",
       "       18.1 , 18.1 , 10.81, 15.04,  9.69, 27.74,  5.96, 21.89, 12.83,\n",
       "       13.89,  5.64,  8.14,  4.05, 19.58, 18.1 , 18.1 , 19.58, 18.1 ,\n",
       "       19.58,  6.2 ,  3.41, 18.1 , 10.59, 18.1 , 11.93, 18.1 ,  6.41,\n",
       "       18.1 , 18.1 ,  2.18, 18.1 , 13.89,  4.93,  6.2 , 18.1 ,  5.86,\n",
       "        4.95, 21.89, 18.1 ,  4.05, 19.58, 27.74, 19.58, 18.1 ,  4.93,\n",
       "        4.86, 10.01,  8.14, 18.1 ,  3.97,  5.19,  5.13,  8.56,  9.9 ,\n",
       "        6.91,  3.41,  6.2 , 18.1 , 18.1 , 18.1 ,  6.2 , 19.58,  9.69,\n",
       "        7.87, 10.01, 18.1 , 18.1 ,  5.86, 21.89, 13.92, 18.1 , 18.1 ,\n",
       "        3.78, 18.1 , 13.89,  3.33, 13.92,  9.9 ,  6.2 ,  7.87,  8.14,\n",
       "       18.1 , 10.59, 25.65,  6.07, 19.58,  2.93, 21.89, 18.1 , 10.01,\n",
       "        8.56,  5.19, 11.93, 18.1 ,  8.56,  1.21,  3.33,  3.44, 25.65,\n",
       "       18.1 , 15.04, 18.1 ,  0.46,  5.13, 27.74,  4.05, 18.1 ,  6.91,\n",
       "        6.09, 18.1 , 21.89,  5.64,  2.89,  1.52, 10.59,  4.93, 18.1 ,\n",
       "        9.69, 18.1 ,  5.13, 18.1 , 19.58,  5.86,  3.97,  5.86,  6.96,\n",
       "       18.1 ,  9.69, 19.58, 18.1 ,  2.95, 18.1 , 18.1 ,  3.37, 10.59,\n",
       "        7.87, 12.83,  5.13,  5.86, 10.01, 18.1 ,  9.9 , 21.89,  3.41,\n",
       "       18.1 ,  2.18,  2.24,  7.38,  3.64,  7.38,  5.13,  1.25,  7.38,\n",
       "        3.75,  6.09, 13.92,  9.9 , 18.1 ,  6.91,  4.49,  8.56, 18.1 ,\n",
       "       21.89,  8.14,  6.09,  2.93, 18.1 , 10.01,  1.91,  3.24, 18.1 ,\n",
       "       13.92,  8.14, 21.89,  1.52, 18.1 ,  8.14,  4.49,  3.97,  3.97,\n",
       "        6.2 ,  4.93,  3.97, 18.1 , 18.1 ,  1.91,  8.56, 19.58, 21.89,\n",
       "        6.07,  2.18,  1.89,  0.74,  2.18,  6.2 , 18.1 ,  5.64,  7.07,\n",
       "        8.14,  3.97, 18.1 ,  9.9 ,  8.14,  2.46, 18.1 ,  2.46,  6.91,\n",
       "       21.89, 18.1 ,  5.86,  3.64,  6.96, 18.1 , 18.1 , 19.58, 18.1 ,\n",
       "       11.93, 10.81, 18.1 , 19.58, 18.1 , 18.1 ,  6.96, 19.58, 10.59,\n",
       "        6.41, 18.1 ,  9.9 , 18.1 ,  6.06,  1.38,  7.38,  9.69, 18.1 ,\n",
       "       19.58, 12.83,  4.95, 18.1 ,  1.25, 10.01, 10.59,  2.02, 18.1 ,\n",
       "        2.46,  2.01, 18.1 ,  2.89, 18.1 , 21.89,  4.05, 18.1 , 27.74,\n",
       "        4.49, 11.93,  2.95,  5.19,  7.07, 18.1 ,  9.9 ,  2.18,  6.07,\n",
       "       10.59, 27.74, 18.1 ,  5.86,  5.19,  5.19, 18.1 , 10.01,  6.2 ,\n",
       "       18.1 ,  8.14, 10.81,  6.91, 25.65, 10.01,  2.89,  6.2 , 10.59,\n",
       "        1.32, 25.65,  8.56,  4.86,  8.14,  6.2 ,  2.89, 18.1 ,  7.38,\n",
       "       18.1 , 18.1 ])"
      ]
     },
     "execution_count": 82,
     "metadata": {},
     "output_type": "execute_result"
    }
   ],
   "source": [
    "X_train[1:354,2]"
   ]
  },
  {
   "cell_type": "code",
   "execution_count": null,
   "id": "supposed-thomson",
   "metadata": {},
   "outputs": [],
   "source": [
    "X_test.head()\n",
    "y_train.head()\n",
    "y_test.head()"
   ]
  }
 ],
 "metadata": {
  "kernelspec": {
   "display_name": "Python 3",
   "language": "python",
   "name": "python3"
  },
  "language_info": {
   "codemirror_mode": {
    "name": "ipython",
    "version": 3
   },
   "file_extension": ".py",
   "mimetype": "text/x-python",
   "name": "python",
   "nbconvert_exporter": "python",
   "pygments_lexer": "ipython3",
   "version": "3.7.9"
  }
 },
 "nbformat": 4,
 "nbformat_minor": 5
}
